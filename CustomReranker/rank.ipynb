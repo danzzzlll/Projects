{
 "cells": [
  {
   "cell_type": "code",
   "execution_count": 2,
   "metadata": {},
   "outputs": [],
   "source": [
    "from typing import Any, List, Optional\n",
    "\n",
    "from llama_index.core.bridge.pydantic import Field, PrivateAttr\n",
    "from llama_index.core.callbacks import CBEventType, EventPayload\n",
    "from llama_index.core.postprocessor.types import BaseNodePostprocessor\n",
    "from llama_index.core.schema import MetadataMode, NodeWithScore, QueryBundle\n",
    "\n",
    "from catboost import CatBoostRanker, CatBoostClassifier, Pool\n",
    "import pandas as pd\n",
    "import numpy as np\n",
    "import joblib"
   ]
  },
  {
   "cell_type": "code",
   "execution_count": 32,
   "metadata": {},
   "outputs": [],
   "source": [
    "data = pd.DataFrame({\n",
    "    'query': ['hello', 'how', 'are', 'you'],\n",
    "    'feature_1': [1., 2., 4., 6.],\n",
    "    'feature_2': [34, 45, 56, 67],\n",
    "})\n",
    "\n",
    "target = np.array([1, 0, 1, 0])\n",
    "data = data.values"
   ]
  },
  {
   "cell_type": "code",
   "execution_count": 33,
   "metadata": {},
   "outputs": [
    {
     "name": "stdout",
     "output_type": "stream",
     "text": [
      "Learning rate set to 0.12562\n",
      "0:\tlearn: 0.6883390\ttotal: 8.98ms\tremaining: 35.9ms\n",
      "1:\tlearn: 0.6788150\ttotal: 22.7ms\tremaining: 34.1ms\n",
      "2:\tlearn: 0.6745137\ttotal: 31.1ms\tremaining: 20.7ms\n",
      "3:\tlearn: 0.6703554\ttotal: 39ms\tremaining: 9.75ms\n",
      "4:\tlearn: 0.6658914\ttotal: 49.4ms\tremaining: 0us\n"
     ]
    },
    {
     "data": {
      "text/plain": [
       "<catboost.core.CatBoostClassifier at 0x1f2e9174cd0>"
      ]
     },
     "execution_count": 33,
     "metadata": {},
     "output_type": "execute_result"
    }
   ],
   "source": [
    "model = CatBoostClassifier(random_seed=42, iterations=5)\n",
    "train_pool = Pool(data, label=target, cat_features=[0])\n",
    "model.fit(train_pool)"
   ]
  },
  {
   "cell_type": "code",
   "execution_count": 34,
   "metadata": {},
   "outputs": [
    {
     "data": {
      "text/plain": [
       "['catboost_model.pkl']"
      ]
     },
     "execution_count": 34,
     "metadata": {},
     "output_type": "execute_result"
    }
   ],
   "source": [
    "joblib.dump(model, \"catboost_model.pkl\")"
   ]
  },
  {
   "cell_type": "code",
   "execution_count": 133,
   "metadata": {},
   "outputs": [],
   "source": [
    "import joblib\n",
    "from typing import Any, List, Optional\n",
    "from pydantic import BaseModel, Field\n",
    "from llama_index.core.data_structs import Node\n",
    "\n",
    "class CatBoost:\n",
    "    def __init__(self, path_to_cb_model: str):\n",
    "        self.model = joblib.load(path_to_cb_model)\n",
    "    \n",
    "    def predict(self, X):\n",
    "        return self.model.predict_proba(X)[:, 1]\n",
    "\n",
    "class CatboostReranker(BaseNodePostprocessor, BaseModel):\n",
    "    top_n: int = Field(default=2, description=\"Top N nodes to return.\")\n",
    "    keep_retrieval_score: bool = Field(\n",
    "        default=False,\n",
    "        description=\"Whether to keep the retrieval score in metadata.\",\n",
    "    )\n",
    "    app_settings: dict = Field(default_factory=dict, description=\"Settings for search\")\n",
    "    path_to_model: str = Field(description=\"Path to CatBoost model\")\n",
    "    _predictor: Any = PrivateAttr()\n",
    "\n",
    "    def __init__(\n",
    "        self,\n",
    "        top_n: int = 2,\n",
    "        keep_retrieval_score: Optional[bool] = False,\n",
    "        path_to_model: str = None,\n",
    "        app_settings=app_settings,\n",
    "        **data\n",
    "    ):\n",
    "        super().__init__(top_n=top_n, keep_retrieval_score=keep_retrieval_score, path_to_model=path_to_model, **data)\n",
    "        self._predictor = CatBoost(path_to_model)\n",
    "\n",
    "    def _postprocess_nodes(\n",
    "        self,\n",
    "        nodes: List[NodeWithScore],\n",
    "        query_bundle: Optional[QueryBundle] = None,\n",
    "    ) -> List[NodeWithScore]:\n",
    "\n",
    "        if not nodes:\n",
    "            return []\n",
    "\n",
    "        query = [node.get_content() for node in nodes]\n",
    "        nodes_metadata = [node.metadata for node in nodes]\n",
    "\n",
    "        combined_data = []\n",
    "        for q, meta in zip(query, nodes_metadata):\n",
    "            combined_data.append([q, meta['feature_1'], meta['feature_2']])\n",
    "\n",
    "        data_array = np.array(combined_data, dtype=object)\n",
    "\n",
    "        test_pool = Pool(data_array, cat_features=[0])\n",
    "        \n",
    "        predicted_scores = self._predictor.predict(test_pool)\n",
    "        \n",
    "        for node, score in zip(nodes, predicted_scores):\n",
    "            node.score = score\n",
    "            if not self.keep_retrieval_score:\n",
    "                node.score = score \n",
    "        \n",
    "        sorted_nodes = sorted(nodes, key=lambda x: x.score, reverse=True)\n",
    "        \n",
    "        return sorted_nodes[:self.top_n]"
   ]
  },
  {
   "cell_type": "code",
   "execution_count": 134,
   "metadata": {},
   "outputs": [],
   "source": [
    "node_1 = Node(text='girl')\n",
    "node_1.metadata = {'feature_1': 36., 'feature_2': 9}\n",
    "node_2 = Node(text='what is your problem, boy')\n",
    "node_2.metadata = {'feature_1': 987., 'feature_2': 98}\n",
    "node_3 = Node(text='hello how i can do it')\n",
    "node_3.metadata = {'feature_1': 80, 'feature_2': 4}\n",
    "node_4 = Node(text='woooorld')\n",
    "node_4.metadata = {'feature_1': 8765., 'feature_2': 1}\n",
    "\n",
    "nodes = [\n",
    "    NodeWithScore(node=node_1, score=0.8),\n",
    "    NodeWithScore(node=node_2, score=0.3),\n",
    "    NodeWithScore(node=node_3, score=0.5),\n",
    "    NodeWithScore(node=node_4, score=0.98),\n",
    "]"
   ]
  },
  {
   "cell_type": "code",
   "execution_count": 135,
   "metadata": {},
   "outputs": [],
   "source": [
    "path_to_cb_model = \"catboost_model.pkl\"\n",
    "\n",
    "ranker = CatboostReranker(\n",
    "    top_n=2,\n",
    "    keep_retrieval_score=True,\n",
    "    path_to_model=path_to_cb_model\n",
    ")"
   ]
  },
  {
   "cell_type": "code",
   "execution_count": 136,
   "metadata": {},
   "outputs": [
    {
     "data": {
      "text/plain": [
       "[NodeWithScore(node=TextNode(id_='87e3efbf-704a-4211-a566-ad4abed2b2b5', embedding=None, metadata={'feature_1': 36.0, 'feature_2': 9}, excluded_embed_metadata_keys=[], excluded_llm_metadata_keys=[], relationships={}, text='girl', mimetype='text/plain', start_char_idx=None, end_char_idx=None, text_template='{metadata_str}\\n\\n{content}', metadata_template='{key}: {value}', metadata_seperator='\\n'), score=0.49535310163657537),\n",
       " NodeWithScore(node=TextNode(id_='a4f23c15-854a-4e69-ac58-7b63138d4fd7', embedding=None, metadata={'feature_1': 80, 'feature_2': 4}, excluded_embed_metadata_keys=[], excluded_llm_metadata_keys=[], relationships={}, text='hello how i can do it', mimetype='text/plain', start_char_idx=None, end_char_idx=None, text_template='{metadata_str}\\n\\n{content}', metadata_template='{key}: {value}', metadata_seperator='\\n'), score=0.49535310163657537)]"
      ]
     },
     "execution_count": 136,
     "metadata": {},
     "output_type": "execute_result"
    }
   ],
   "source": [
    "ranked_nodes = ranker._postprocess_nodes(nodes)\n",
    "ranked_nodes"
   ]
  },
  {
   "cell_type": "code",
   "execution_count": null,
   "metadata": {},
   "outputs": [],
   "source": []
  }
 ],
 "metadata": {
  "kernelspec": {
   "display_name": "ranker",
   "language": "python",
   "name": "python3"
  },
  "language_info": {
   "codemirror_mode": {
    "name": "ipython",
    "version": 3
   },
   "file_extension": ".py",
   "mimetype": "text/x-python",
   "name": "python",
   "nbconvert_exporter": "python",
   "pygments_lexer": "ipython3",
   "version": "3.10.11"
  }
 },
 "nbformat": 4,
 "nbformat_minor": 2
}
